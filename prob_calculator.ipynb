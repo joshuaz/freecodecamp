{
 "cells": [
  {
   "cell_type": "code",
   "execution_count": 1,
   "metadata": {},
   "outputs": [],
   "source": [
    "import copy\n",
    "import random"
   ]
  },
  {
   "cell_type": "code",
   "execution_count": 26,
   "metadata": {},
   "outputs": [],
   "source": [
    "class Hat:\n",
    "    def __init__(self, **kwargs): ##The special syntax **kwargs in function definitions in python is used to pass a keyworded, variable-length argument list.\n",
    "        self.contents = []\n",
    "        for k, v in kwargs.items():\n",
    "            self.contents += [k] * int(v)\n",
    "            \n",
    "        self.__initial_contents = copy.copy(self.contents)\n",
    "            \n",
    "    def reset(self):\n",
    "        self.contents = copy.copy(self.__initial_contents)\n",
    "        \n",
    "    def draw(self, count):\n",
    "        # Draw the specified count of items from the hat, return all items if the count is > number of items\n",
    "        try:\n",
    "            drawn = random.sample(self.contents, count)\n",
    "        except ValueError:\n",
    "            drawn = copy.copy(self.contents)\n",
    "\n",
    "        # Remove the items drawn from the hat\n",
    "        for item in drawn:\n",
    "            self.contents.remove(item)\n",
    "\n",
    "        # Refill the hat if empty\n",
    "        if len(self.contents) == 0:\n",
    "            self.contents = copy.copy(self.__initial_contents)\n",
    "\n",
    "        return drawn"
   ]
  },
  {
   "cell_type": "code",
   "execution_count": 27,
   "metadata": {},
   "outputs": [],
   "source": [
    "def experiment(hat, expected_balls, num_balls_drawn, num_experiments):\n",
    "    count = 0\n",
    "    for _ in range(0, num_experiments):\n",
    "        h = copy.deepcopy(hat)\n",
    "        balls = h.draw(num_balls_drawn)\n",
    "        d = {}\n",
    "        for b in balls:\n",
    "            v = d.get(b, 0)\n",
    "            d[b] = v + 1\n",
    "\n",
    "        found = True\n",
    "        for b, v in expected_balls.items():\n",
    "            if d.get(b, 0) < v:\n",
    "                found = False\n",
    "                break\n",
    "\n",
    "        if found:\n",
    "            count += 1\n",
    "\n",
    "    return count / num_experiments"
   ]
  },
  {
   "cell_type": "markdown",
   "metadata": {},
   "source": [
    "## Testing"
   ]
  },
  {
   "cell_type": "markdown",
   "metadata": {},
   "source": [
    "### Testing 1"
   ]
  },
  {
   "cell_type": "code",
   "execution_count": 28,
   "metadata": {},
   "outputs": [],
   "source": [
    "hat = Hat(blue=4, red=2, green=6)"
   ]
  },
  {
   "cell_type": "code",
   "execution_count": 30,
   "metadata": {},
   "outputs": [
    {
     "name": "stdout",
     "output_type": "stream",
     "text": [
      "Probability: 0.17966666666666667\n"
     ]
    }
   ],
   "source": [
    "probability = experiment(\n",
    "    hat=hat,\n",
    "    expected_balls={\"blue\": 2,\n",
    "                    \"red\": 1},\n",
    "    num_balls_drawn=4,\n",
    "    num_experiments=3000)\n",
    "print(\"Probability:\", probability)\n"
   ]
  },
  {
   "cell_type": "markdown",
   "metadata": {},
   "source": [
    "### Testing 2"
   ]
  },
  {
   "cell_type": "code",
   "execution_count": 32,
   "metadata": {},
   "outputs": [
    {
     "name": "stdout",
     "output_type": "stream",
     "text": [
      "Probability: 0.485\n"
     ]
    }
   ],
   "source": [
    "hat = Hat(red=5,blue=2)\n",
    "probability = experiment(hat=hat,\n",
    "                         expected_balls={\"blue\":1,\"red\":1}, \n",
    "                         num_balls_drawn=2, \n",
    "                         num_experiments=1000)\n",
    "print(\"Probability:\", probability)"
   ]
  },
  {
   "cell_type": "markdown",
   "metadata": {},
   "source": [
    "### Testing 3"
   ]
  },
  {
   "cell_type": "code",
   "execution_count": 31,
   "metadata": {},
   "outputs": [
    {
     "name": "stdout",
     "output_type": "stream",
     "text": [
      "Probability: 0.259\n"
     ]
    }
   ],
   "source": [
    "hat = Hat(blue=3,red=2,green=6)\n",
    "probability = experiment(hat=hat,\n",
    "                         expected_balls={\"blue\":2,\"green\":1}, \n",
    "                         num_balls_drawn=4, \n",
    "                         num_experiments=1000)\n",
    "print(\"Probability:\", probability)"
   ]
  },
  {
   "cell_type": "markdown",
   "metadata": {},
   "source": [
    "### Testing 4"
   ]
  },
  {
   "cell_type": "code",
   "execution_count": 33,
   "metadata": {},
   "outputs": [
    {
     "name": "stdout",
     "output_type": "stream",
     "text": [
      "Probability: 1.0\n"
     ]
    }
   ],
   "source": [
    "hat = Hat(yellow=5,red=1,green=3,blue=9,test=1)\n",
    "probability = experiment(hat=hat,\n",
    "                         expected_balls={\"yellow\":2,\"blue\":3,\"test\":1},\n",
    "                         num_balls_drawn=20, \n",
    "                         num_experiments=100)\n",
    "print(\"Probability:\", probability)"
   ]
  },
  {
   "cell_type": "code",
   "execution_count": null,
   "metadata": {},
   "outputs": [],
   "source": []
  }
 ],
 "metadata": {
  "kernelspec": {
   "display_name": "Python 3",
   "language": "python",
   "name": "python3"
  },
  "language_info": {
   "codemirror_mode": {
    "name": "ipython",
    "version": 3
   },
   "file_extension": ".py",
   "mimetype": "text/x-python",
   "name": "python",
   "nbconvert_exporter": "python",
   "pygments_lexer": "ipython3",
   "version": "3.8.5"
  }
 },
 "nbformat": 4,
 "nbformat_minor": 4
}
