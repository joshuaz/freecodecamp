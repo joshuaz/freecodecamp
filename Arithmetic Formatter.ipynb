{
 "cells": [
  {
   "cell_type": "code",
   "execution_count": 246,
   "metadata": {},
   "outputs": [
    {
     "ename": "SyntaxError",
     "evalue": "invalid syntax (<ipython-input-246-2027d96fc304>, line 1)",
     "output_type": "error",
     "traceback": [
      "\u001b[0;36m  File \u001b[0;32m\"<ipython-input-246-2027d96fc304>\"\u001b[0;36m, line \u001b[0;32m1\u001b[0m\n\u001b[0;31m    Students in primary school often arrange arithmetic problems vertically to make them easier to solve. For example, \"235 + 52\" becomes:\u001b[0m\n\u001b[0m                        ^\u001b[0m\n\u001b[0;31mSyntaxError\u001b[0m\u001b[0;31m:\u001b[0m invalid syntax\n"
     ]
    }
   ],
   "source": [
    "Students in primary school often arrange arithmetic problems vertically to make them easier to solve. For example, \"235 + 52\" becomes:\n",
    "\n",
    "  235\n",
    "+  52\n",
    "-----\n",
    "Create a function that receives a list of strings that are arithmetic problems and returns the problems arranged vertically and side-by-side. The function should optionally take a second argument. When the second argument is set to True, the answers should be displayed.\n",
    "\n",
    "Example\n",
    "Function Call:\n",
    "\n",
    "arithmetic_arranger([\"32 + 698\", \"3801 - 2\", \"45 + 43\", \"123 + 49\"])\n",
    "Output:\n",
    "\n",
    "   32      3801      45      123\n",
    "+ 698    -    2    + 43    +  49\n",
    "-----    ------    ----    -----\n",
    "Function Call:\n",
    "\n",
    "arithmetic_arranger([\"32 + 8\", \"1 - 3801\", \"9999 + 9999\", \"523 - 49\"], True)\n",
    "Output:\n",
    "\n",
    "  32         1      9999      523\n",
    "+  8    - 3801    + 9999    -  49\n",
    "----    ------    ------    -----\n",
    "  40     -3800     19998      474"
   ]
  },
  {
   "cell_type": "markdown",
   "metadata": {},
   "source": [
    "## Rules\n",
    "The function will return the correct conversion if the supplied problems are properly formatted, otherwise, it will return a string that describes an error that is meaningful to the user.\n",
    "\n",
    "Situations that will return an error:\n",
    "* If there are too many problems supplied to the function. The limit is five, anything more will return: \"Error: Too many problems.\"\n",
    "* The appropriate operators the function will accept are addition and subtraction. Multiplication and division will return an error. Other operators not mentioned in this bullet point will not need to be tested. The error returned will be: \"Error: Operator must be '+' or '-'.\"\n",
    "* Each number (operand) should only contain digits. Otherwise, the function will return: \"Error: Numbers must only contain digits.\"\n",
    "* Each operand (aka number on each side of the operator) has a max of four digits in width. Otherwise, the error string returned will be: \"Error: Numbers cannot be more than four digits.\"\n",
    "* If the user supplied the correct format of problems, the conversion you return will follow these rules:\n",
    " * There should be a single space between the operator and the longest of the two operands, the operator will be on the same line as the second operand, both operands will be in the same order as provided (the first will be the top one and the second will be the bottom.\n",
    " * Numbers should be right-aligned.\n",
    " * There should be four spaces between each problem.\n",
    " * There should be dashes at the bottom of each problem. The dashes should run along the entire length of each problem individually. (The example above shows what this should look like.)"
   ]
  },
  {
   "cell_type": "code",
   "execution_count": 238,
   "metadata": {},
   "outputs": [],
   "source": [
    "import itertools\n",
    "import re\n",
    "\n",
    "def arithmetic_arranger(problems, solve=False):\n",
    "    ERROR_SIZE = \"Error: Too many problems.\"\n",
    "    ERROR_OPERATOR = \"Error: Operator must be '+' or '-'.\"\n",
    "    ERROR_NONNUMERICAL = \"Error: Numbers must only contain digits.\"\n",
    "    ERROR_LENGTH = \"Error: Numbers cannot be more than four digits.\"\n",
    "    line1 = ''\n",
    "    line2 = ''\n",
    "    line3 = ''\n",
    "    line4 = ''\n",
    "    top_number = []\n",
    "    bottom_number = []\n",
    "    operator = []\n",
    "    calculated_result = []\n",
    "    max_width_in_equation = []\n",
    "\n",
    "    # Number of problems is limited to 5\n",
    "    if len(problems) > 5:\n",
    "        return ERROR_SIZE\n",
    "    \n",
    "    must_be_number = re.compile(r'^[0-9]{1,4}$')\n",
    "    \n",
    "\n",
    "    for idx, i in enumerate(problems):\n",
    "        [top, op, bottom] = i.split()\n",
    "        \n",
    "        # check the operator\n",
    "        if op != '+' and op != \"-\":\n",
    "            return ERROR_OPERATOR\n",
    "        \n",
    "        # check the digits\n",
    "        if len(top) > 4 or len(bottom) >4:\n",
    "            return ERROR_LENGTH\n",
    "        \n",
    "        # check that values are numeric\n",
    "        if must_be_number.match(top) is None or must_be_number.match(bottom) is None:\n",
    "            return ERROR_NONNUMERICAL\n",
    "        \n",
    "        # Calculate the answer\n",
    "        if op == \"+\":\n",
    "            answer = str(int(top) + int(bottom))\n",
    "        else:\n",
    "            answer = str(int(top) - int(bottom))\n",
    "        \n",
    "        #calculate max width in equation\n",
    "        max_width = max(len(top), len(bottom))\n",
    "        \n",
    "        ##format lines\n",
    "        #line 1 starts with two spaces (to align with the operator + space on line 2)\n",
    "        line1 += \"  \" + (\" \" * (max_width - len(top))) + top + \"    \"\n",
    "        if idx == len(problems) - 1:\n",
    "            print(line1)\n",
    "        #line 2 starts with operator, then space\n",
    "        line2 += op + \" \" + (\" \" * (max_width - len(bottom))) + bottom + \"    \"\n",
    "        if idx == len(problems) - 1:\n",
    "            print(line2)\n",
    "        #line 3 is width of max_width + 2\n",
    "        line3 += (\"-\"*(max_width + 2)) + \"    \"\n",
    "        if idx == len(problems) - 1:\n",
    "            print(line3)\n",
    "        #line4 is the answer (max_width + 2 - length of answer)\n",
    "        if solve:\n",
    "            line4 += (\" \"*(max_width + 2 - len(answer))) + answer + \"    \"\n",
    "            if idx == len(problems) - 1:\n",
    "                print(line4)"
   ]
  },
  {
   "cell_type": "code",
   "execution_count": 245,
   "metadata": {},
   "outputs": [
    {
     "name": "stdout",
     "output_type": "stream",
     "text": [
      "   32      3801      45      123    \n",
      "+ 698    +    2    + 43    +  49    \n",
      "-----    ------    ----    -----    \n",
      "  730      3803      88      172    \n"
     ]
    }
   ],
   "source": [
    "arithmetic_arranger(l, True)"
   ]
  },
  {
   "cell_type": "code",
   "execution_count": 244,
   "metadata": {},
   "outputs": [],
   "source": [
    "l = [\"32 + 698\", \"3801 + 2\", \"45 + 43\", \"123 + 49\"]"
   ]
  },
  {
   "cell_type": "code",
   "execution_count": 196,
   "metadata": {},
   "outputs": [],
   "source": [
    "q = [\"32 + 8\", \"1 - 3801\", \"9999 + 9999\", \"523 - 49\"]"
   ]
  },
  {
   "cell_type": "code",
   "execution_count": 212,
   "metadata": {},
   "outputs": [],
   "source": [
    "x = [\"32 + 698\", \"3801 + 2\", \"45 + 43\", \"123 + 49\", \"32 + 698\", \"3801 + 2\", \"45 + 43\", \"123 + 49\"]"
   ]
  },
  {
   "cell_type": "code",
   "execution_count": 213,
   "metadata": {},
   "outputs": [],
   "source": [
    "c = [\"32 + 8\", \"1 - 3801\", \"9999 * 9999\", \"523 - 49\"]"
   ]
  },
  {
   "cell_type": "code",
   "execution_count": 214,
   "metadata": {},
   "outputs": [],
   "source": [
    "j = [\"32 + 8\", \"1 - 3801\", \"df + 9999\", \"523 - 49\"]"
   ]
  },
  {
   "cell_type": "code",
   "execution_count": 218,
   "metadata": {},
   "outputs": [],
   "source": [
    "k = [\"324444444 + 8\", \"1 - 3801\", \"9999 * 9999\", \"523 - 49\"]"
   ]
  },
  {
   "cell_type": "code",
   "execution_count": 124,
   "metadata": {},
   "outputs": [
    {
     "name": "stdout",
     "output_type": "stream",
     "text": [
      "[{0, '32'}, {1, '3801'}, {2, '45'}, {3, '123'}]\n",
      "[{0, '698'}, {1, '2'}, {2, '43'}, {3, '49'}]\n",
      "[{0, '+'}, {1, '+'}, {2, '+'}, {3, '+'}]\n",
      "[{0, 730}, {1, 3803}, {88, 2}, {3, 172}]\n"
     ]
    }
   ],
   "source": [
    "#attempt with dictionaries\n",
    "\n",
    "top_number = []\n",
    "bottom_number = []\n",
    "operator = []\n",
    "calculated_result = []\n",
    "for idx, i in enumerate(l):\n",
    "    top = {idx, i.split(' ')[0]}\n",
    "    top_number.append(top)\n",
    "    bottom = {idx, i.split(' ')[2]}\n",
    "    bottom_number.append(bottom)\n",
    "    plus_or_minus = {idx, i.split(' ')[1]}\n",
    "    operator.append(plus_or_minus)\n",
    "    calculated = {idx, int(i.split(' ')[0]) + int(i.split(' ')[2]) if i.split(' ')[1] == '+' else int(i.split(' ')[0]) - int(i.split(' ')[2])}\n",
    "    calculated_result.append(calculated)\n",
    "\n",
    "print(top_number)\n",
    "print(bottom_number)\n",
    "print(operator)\n",
    "print(calculated_result)"
   ]
  }
 ],
 "metadata": {
  "kernelspec": {
   "display_name": "Python 3",
   "language": "python",
   "name": "python3"
  },
  "language_info": {
   "codemirror_mode": {
    "name": "ipython",
    "version": 3
   },
   "file_extension": ".py",
   "mimetype": "text/x-python",
   "name": "python",
   "nbconvert_exporter": "python",
   "pygments_lexer": "ipython3",
   "version": "3.8.5"
  }
 },
 "nbformat": 4,
 "nbformat_minor": 4
}
