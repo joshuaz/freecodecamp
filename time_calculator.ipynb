{
 "cells": [
  {
   "cell_type": "markdown",
   "metadata": {},
   "source": [
    "Write a function named add_time that takes in two required parameters and one optional parameter:\n",
    "\n",
    "* a start time in the 12-hour clock format (ending in AM or PM)\n",
    "* a duration time that indicates the number of hours and minutes\n",
    "* (optional) a starting day of the week, case insensitive\n",
    "* The function should add the duration time to the start time and return the result.\n",
    "\n",
    "If the result will be the next day, it should show (next day) after the time. If the result will be more than one day later, it should show (n days later) after the time, where \"n\" is the number of days later.\n",
    "\n",
    "If the function is given the optional starting day of the week parameter, then the output should display the day of the week of the result. The day of the week in the output should appear after the time and before the number of days later.\n",
    "\n",
    "Below are some examples of different cases the function should handle. Pay close attention to the spacing and punctuation of the results."
   ]
  },
  {
   "cell_type": "code",
   "execution_count": null,
   "metadata": {},
   "outputs": [],
   "source": [
    "add_time(\"3:00 PM\", \"3:10\")\n",
    "# Returns: 6:10 PM\n",
    "\n",
    "add_time(\"11:30 AM\", \"2:32\", \"Monday\")\n",
    "# Returns: 2:02 PM, Monday\n",
    "\n",
    "add_time(\"11:43 AM\", \"00:20\")\n",
    "# Returns: 12:03 PM\n",
    "\n",
    "add_time(\"10:10 PM\", \"3:30\")\n",
    "# Returns: 1:40 AM (next day)\n",
    "\n",
    "add_time(\"11:43 PM\", \"24:20\", \"tueSday\")\n",
    "# Returns: 12:03 AM, Thursday (2 days later)\n",
    "\n",
    "add_time(\"6:30 PM\", \"205:12\")\n",
    "# Returns: 7:42 AM (9 days later)"
   ]
  },
  {
   "cell_type": "markdown",
   "metadata": {},
   "source": [
    "Do not import any Python libraries. Assume that the start times are valid times. The minutes in the duration time will be a whole number less than 60, but the hour can be any whole number."
   ]
  },
  {
   "cell_type": "code",
   "execution_count": 163,
   "metadata": {},
   "outputs": [],
   "source": [
    "def add_time(start_time, add_time, start_day=False):\n",
    "    \n",
    "    ########### starting with start_time\n",
    "    [start_time_of_day, start_am_or_pm] = start_time.split()\n",
    "    [start_hour, start_minute] = start_time_of_day.split(':')\n",
    "    start_time_in_minutes = (60 * int(start_hour)) + int(start_minute)\n",
    "    \n",
    "    ############ adding 720 minutes (12 hours) if the original time was PM\n",
    "    start_time_in_minutes = start_time_in_minutes + 720 if start_am_or_pm == \"PM\" else start_time_in_minutes\n",
    "    \n",
    "    ############ now focus on add_time\n",
    "    [add_time_hour, add_time_minute] = add_time.split(':')\n",
    "    add_time_in_minutes = (int(add_time_hour) * 60) + int(add_time_minute)\n",
    "    \n",
    "    ############ getting ending time (in minutes)\n",
    "    total_minutes = start_time_in_minutes + add_time_in_minutes\n",
    "    \n",
    "    ########### getting days and leftover minutes\n",
    "    days, minutes = divmod(total_minutes, 1440)\n",
    "    \n",
    "    ########### getting hours and minutes from leftover minutes\n",
    "    hours, minutes2 = divmod(minutes, 60)\n",
    "    \n",
    "    ###########adding a 0 in-case we need a 0 in front of the minute\n",
    "    if len(str(minutes2)) == 1:\n",
    "        minutes2 = \"0\" + str(minutes2)\n",
    "    \n",
    "    ##########getting AM or PM\n",
    "    if minutes < 720:\n",
    "        final_am_pm = \" AM\"\n",
    "    else:\n",
    "        final_am_pm = \" PM\"\n",
    "    \n",
    "    #########getting \"(next day)\" or \"(x days later)\"\n",
    "    if days == 0:\n",
    "        days_later_memo = \"\"\n",
    "    elif days == 1:\n",
    "        days_later_memo = \" (next day)\"\n",
    "    else:\n",
    "        days_later_memo = \" (\" + str(days) + \" days later)\"\n",
    "    \n",
    "    \n",
    "    ############ getting final weekday for if there's a weekday\n",
    "    final_weekday = \"\"\n",
    "    if start_day != False:\n",
    "        day_of_week = start_day\n",
    "        if day_of_week.lower() == \"sunday\":\n",
    "            day_of_week_count = 1\n",
    "        elif day_of_week.lower() == \"monday\":\n",
    "            day_of_week_count = 2\n",
    "        elif day_of_week.lower() == \"tuesday\":\n",
    "            day_of_week_count = 3\n",
    "        elif day_of_week.lower() == \"wednesday\":\n",
    "            day_of_week_count = 4\n",
    "        elif day_of_week.lower() == \"thursday\":\n",
    "            day_of_week_count = 5\n",
    "        elif day_of_week.lower() == \"friday\":\n",
    "            day_of_week_count = 6\n",
    "        else: day_of_week_count = 7\n",
    "        ########### getting final day of week (modulo operator in-case it goes across weeks)\n",
    "        final_day_of_week_count = (day_of_week_count + days)%7\n",
    "        if final_day_of_week_count == 1:\n",
    "            final_weekday = \", Sunday\"\n",
    "        elif final_day_of_week_count == 2:\n",
    "            final_weekday = \", Monday\"\n",
    "        elif final_day_of_week_count == 3:\n",
    "            final_weekday = \", Tuesday\"\n",
    "        elif final_day_of_week_count == 4:\n",
    "            final_weekday = \", Wednesday\"\n",
    "        elif final_day_of_week_count == 5:\n",
    "            final_weekday = \", Thursday\"\n",
    "        elif final_day_of_week_count == 6:\n",
    "            final_weekday = \", Friday\"\n",
    "        else: final_weekday = \", Saturday\"\n",
    "    \n",
    "\n",
    "    ############# final formatting\n",
    "    if minutes < 60:\n",
    "        final_time = \"12:\" + str(minutes2) + final_am_pm + final_weekday + days_later_memo\n",
    "    elif minutes >= 60 and minutes < 720:\n",
    "        final_time = str(hours) + \":\" + str(minutes2) + final_am_pm + final_weekday + days_later_memo\n",
    "    elif minutes >= 720 and minutes <780:\n",
    "        final_time = \"12:\" + str(minutes2) + final_am_pm + final_weekday\n",
    "    else: final_time = str(hours - 12) + \":\" + str(minutes2) + final_am_pm + final_weekday + days_later_memo\n",
    "    print(final_time)"
   ]
  },
  {
   "cell_type": "code",
   "execution_count": 164,
   "metadata": {},
   "outputs": [
    {
     "name": "stdout",
     "output_type": "stream",
     "text": [
      "6:10 PM\n"
     ]
    }
   ],
   "source": [
    "add_time(\"3:00 PM\", \"3:10\")\n",
    "# Returns: 6:10 PM"
   ]
  },
  {
   "cell_type": "code",
   "execution_count": 165,
   "metadata": {},
   "outputs": [
    {
     "name": "stdout",
     "output_type": "stream",
     "text": [
      "2:02 PM, Monday\n"
     ]
    }
   ],
   "source": [
    "add_time(\"11:30 AM\", \"2:32\", \"Monday\")\n",
    "# Returns: 2:02 PM, Monday"
   ]
  },
  {
   "cell_type": "code",
   "execution_count": 166,
   "metadata": {},
   "outputs": [
    {
     "name": "stdout",
     "output_type": "stream",
     "text": [
      "12:03 PM\n"
     ]
    }
   ],
   "source": [
    "add_time(\"11:43 AM\", \"00:20\")\n",
    "# Returns: 12:03 PM"
   ]
  },
  {
   "cell_type": "code",
   "execution_count": 167,
   "metadata": {},
   "outputs": [
    {
     "name": "stdout",
     "output_type": "stream",
     "text": [
      "1:40 AM (next day)\n"
     ]
    }
   ],
   "source": [
    "add_time(\"10:10 PM\", \"3:30\")\n",
    "# Returns: 1:40 AM (next day)"
   ]
  },
  {
   "cell_type": "code",
   "execution_count": 168,
   "metadata": {},
   "outputs": [
    {
     "name": "stdout",
     "output_type": "stream",
     "text": [
      "12:03 AM, Thursday (2 days later)\n"
     ]
    }
   ],
   "source": [
    "add_time(\"11:43 PM\", \"24:20\", \"tueSday\")\n",
    "# Returns: 12:03 AM, Thursday (2 days later)"
   ]
  },
  {
   "cell_type": "code",
   "execution_count": 169,
   "metadata": {},
   "outputs": [
    {
     "name": "stdout",
     "output_type": "stream",
     "text": [
      "7:42 AM (9 days later)\n"
     ]
    }
   ],
   "source": [
    "add_time(\"6:30 PM\", \"205:12\")\n",
    "# Returns: 7:42 AM (9 days later)"
   ]
  }
 ],
 "metadata": {
  "kernelspec": {
   "display_name": "Python 3",
   "language": "python",
   "name": "python3"
  },
  "language_info": {
   "codemirror_mode": {
    "name": "ipython",
    "version": 3
   },
   "file_extension": ".py",
   "mimetype": "text/x-python",
   "name": "python",
   "nbconvert_exporter": "python",
   "pygments_lexer": "ipython3",
   "version": "3.8.5"
  }
 },
 "nbformat": 4,
 "nbformat_minor": 4
}
