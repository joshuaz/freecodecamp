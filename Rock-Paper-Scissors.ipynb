{
 "cells": [
  {
   "cell_type": "markdown",
   "metadata": {},
   "source": [
    "### Assignment\n",
    "\n",
    "For this challenge, you will create a program to play Rock, Paper, Scissors. A program that picks at random will usually win 50% of the time. To pass this challenge your program must play matches against four different bots, winning at least 60% of the games in each match.\n",
    "\n",
    "In the file `RPS.py` you are provided with a function called `player`. The function takes an argument that is a string describing the last move of the opponent (\"R\", \"P\", or \"S\"). The function should return a string representing the next move for it to play (\"R\", \"P\", or \"S\").\n",
    "\n",
    "A player function will receive an empty string as an argument for the first game in a match since there is no previous play.\n",
    "\n",
    "The file `RPS.py` shows an example function that you will need to update. The example function is defined with two arguments (`player(prev_play, opponent_history = [])`). The function is never called with a second argument so that one is completely optional. The reason why the example function contains a second argument (`opponent_history = []`) is because that is the only way to save state between consecutive calls of the `player` function. You only need the `opponent_history` argument if you want to keep track of the opponent_history.\n",
    "\n",
    "*Hint: To defeat all four opponents, your program may need to have multiple strategies that change depending on the plays of the opponent.*\n",
    "\n",
    "### Development\n",
    "\n",
    "Do not modify `RPS_game.py`. Write all your code in `RPS.py`. For development, you can use `main.py` to test your code. \n",
    "\n",
    "`main.py` imports the game function and bots from `RPS_game.py`.\n",
    "\n",
    "To test your code, play a game with the `play` function. The `play` function takes four arguments:\n",
    "- two players to play against each other (the players are actually functions)\n",
    "- the number of games to play in the match\n",
    "- an optional argument to see a log of each game. Set it to `True` to see these messages.\n",
    "\n",
    "```py\n",
    "play(player1, player2, num_games[, verbose])\n",
    "```\n",
    "For example, here is how you would call the function if you want `player` and `quincy` to play 1000 games against each other and you want to see the results of each game:\n",
    "```py\n",
    "play(player, quincy, 1000, verbose=True)\n",
    "```\n",
    "\n",
    "Click the \"run\" button and `main.py` will run.\n",
    "\n",
    "### Testing \n",
    "\n",
    "The unit tests for this project are in `test_module.py`. We imported the tests from `test_module.py` to `main.py` for your convenience. If you uncomment the last line in `main.py`, the tests will run automatically whenever you hit the \"run\" button."
   ]
  },
  {
   "cell_type": "markdown",
   "metadata": {},
   "source": [
    "### Game driver\n",
    "from RPS_game.py"
   ]
  },
  {
   "cell_type": "code",
   "execution_count": 1,
   "metadata": {},
   "outputs": [],
   "source": [
    "import random\n",
    "from collections import Counter"
   ]
  },
  {
   "cell_type": "code",
   "execution_count": 2,
   "metadata": {},
   "outputs": [],
   "source": [
    "def play(player1, player2, num_games, verbose=False):\n",
    "    p1_prev_play = \"\"\n",
    "    p2_prev_play = \"\"\n",
    "    results = {\"p1\": 0, \"p2\": 0, \"tie\": 0}\n",
    "\n",
    "    for _ in range(num_games):\n",
    "        p1_play = player1(p2_prev_play)\n",
    "        p2_play = player2(p1_prev_play)\n",
    "\n",
    "        if p1_play == p2_play:\n",
    "            results[\"tie\"] += 1\n",
    "            winner = \"Tie.\"\n",
    "        elif (\n",
    "            (p1_play == \"P\" and p2_play == \"R\")\n",
    "            or (p1_play == \"R\" and p2_play == \"S\")\n",
    "            or (p1_play == \"S\" and p2_play == \"P\")\n",
    "        ):\n",
    "            results[\"p1\"] += 1\n",
    "            winner = \"Player 1 wins.\"\n",
    "        elif (\n",
    "            p2_play == \"P\"\n",
    "            and p1_play == \"R\"\n",
    "            or p2_play == \"R\"\n",
    "            and p1_play == \"S\"\n",
    "            or p2_play == \"S\"\n",
    "            and p1_play == \"P\"\n",
    "        ):\n",
    "            results[\"p2\"] += 1\n",
    "            winner = \"Player 2 wins.\"\n",
    "\n",
    "        if verbose:\n",
    "            print(\"Player 1:\", p1_play, \"| Player 2:\", p2_play)\n",
    "            print(winner)\n",
    "            print()\n",
    "\n",
    "        p1_prev_play = p1_play\n",
    "        p2_prev_play = p2_play\n",
    "\n",
    "    games_won = results[\"p2\"] + results[\"p1\"]\n",
    "\n",
    "    if games_won == 0:\n",
    "        win_rate = 0\n",
    "    else:\n",
    "        win_rate = results[\"p1\"] / games_won * 100\n",
    "\n",
    "    print(\"Final results:\", results)\n",
    "    print(f\"Player 1 win rate: {win_rate}%\")\n",
    "\n",
    "    return win_rate"
   ]
  },
  {
   "cell_type": "code",
   "execution_count": 3,
   "metadata": {},
   "outputs": [],
   "source": [
    "def quincy(prev_play, counter=[0]):\n",
    "    counter[0] += 1\n",
    "    choices = [\"R\", \"R\", \"P\", \"P\", \"S\"]\n",
    "    return choices[counter[0] % len(choices)]"
   ]
  },
  {
   "cell_type": "code",
   "execution_count": 4,
   "metadata": {},
   "outputs": [],
   "source": [
    "def mrugesh(prev_opponent_play, opponent_history=[]):\n",
    "    opponent_history.append(prev_opponent_play)\n",
    "    last_ten = opponent_history[-10:]\n",
    "    most_frequent = max(set(last_ten), key=last_ten.count)\n",
    "\n",
    "    if most_frequent == \"\":\n",
    "        most_frequent = \"S\"\n",
    "\n",
    "    ideal_response = {\"P\": \"S\", \"R\": \"P\", \"S\": \"R\"}\n",
    "    return ideal_response[most_frequent]"
   ]
  },
  {
   "cell_type": "code",
   "execution_count": 5,
   "metadata": {},
   "outputs": [],
   "source": [
    "def kris(prev_opponent_play):\n",
    "    if prev_opponent_play == '':\n",
    "        prev_opponent_play = \"R\"\n",
    "    ideal_response = {'P': 'S', 'R': 'P', 'S': 'R'}\n",
    "    return ideal_response[prev_opponent_play]"
   ]
  },
  {
   "cell_type": "code",
   "execution_count": 6,
   "metadata": {},
   "outputs": [],
   "source": [
    "def abbey(prev_opponent_play,\n",
    "          opponent_history=[],\n",
    "          play_order=[{\n",
    "              \"RR\": 0,\n",
    "              \"RP\": 0,\n",
    "              \"RS\": 0,\n",
    "              \"PR\": 0,\n",
    "              \"PP\": 0,\n",
    "              \"PS\": 0,\n",
    "              \"SR\": 0,\n",
    "              \"SP\": 0,\n",
    "              \"SS\": 0,\n",
    "          }]):\n",
    "\n",
    "    if not prev_opponent_play:\n",
    "        prev_opponent_play = 'R'\n",
    "    opponent_history.append(prev_opponent_play)\n",
    "\n",
    "    last_two = \"\".join(opponent_history[-2:])\n",
    "    if len(last_two) == 2:\n",
    "        play_order[0][last_two] += 1\n",
    "\n",
    "    potential_plays = [\n",
    "        prev_opponent_play + \"R\",\n",
    "        prev_opponent_play + \"P\",\n",
    "        prev_opponent_play + \"S\",\n",
    "    ]\n",
    "\n",
    "    sub_order = {\n",
    "        k: play_order[0][k]\n",
    "        for k in potential_plays if k in play_order[0]\n",
    "    }\n",
    "\n",
    "    prediction = max(sub_order, key=sub_order.get)[-1:]\n",
    "\n",
    "    ideal_response = {'P': 'S', 'R': 'P', 'S': 'R'}\n",
    "    return ideal_response[prediction]"
   ]
  },
  {
   "cell_type": "code",
   "execution_count": 7,
   "metadata": {},
   "outputs": [],
   "source": [
    "def human(prev_opponent_play):\n",
    "    play = \"\"\n",
    "    while play not in ['R', 'P', 'S']:\n",
    "        play = input(\"[R]ock, [P]aper, [S]cissors? \")\n",
    "        print(play)\n",
    "    return play"
   ]
  },
  {
   "cell_type": "code",
   "execution_count": 8,
   "metadata": {},
   "outputs": [],
   "source": [
    "def random_player(prev_opponent_play):\n",
    "    return random.choice(['R', 'P', 'S'])"
   ]
  },
  {
   "cell_type": "markdown",
   "metadata": {},
   "source": [
    "### Approach"
   ]
  },
  {
   "cell_type": "code",
   "execution_count": 9,
   "metadata": {},
   "outputs": [],
   "source": [
    "counter_move = {\"R\": \"P\", \"P\": \"S\", \"S\": \"R\"}"
   ]
  },
  {
   "cell_type": "markdown",
   "metadata": {},
   "source": [
    "#### Play vs Quincy"
   ]
  },
  {
   "cell_type": "code",
   "execution_count": 17,
   "metadata": {},
   "outputs": [
    {
     "name": "stdout",
     "output_type": "stream",
     "text": [
      "Final results: {'p1': 997, 'p2': 2, 'tie': 1}\n",
      "Player 1 win rate: 99.7997997997998%\n"
     ]
    },
    {
     "data": {
      "text/plain": [
       "99.7997997997998"
      ]
     },
     "execution_count": 17,
     "metadata": {},
     "output_type": "execute_result"
    }
   ],
   "source": [
    "steps = {}\n",
    "\n",
    "def player(prev_play, opponent_history=[]):\n",
    "    if prev_play != \"\":\n",
    "        opponent_history.append(prev_play)\n",
    "\n",
    "    n = 2\n",
    "\n",
    "    hist = opponent_history\n",
    "\n",
    "    # quincy's choices: [\"R\", \"R\", \"P\", \"P\", \"S\"]\n",
    "    \n",
    "    guess = \"R\"\n",
    "    if len(hist) > n:\n",
    "        last_two = hist[-n:]\n",
    "        if last_two == [\"R\", \"R\"]:\n",
    "            guess = \"S\"\n",
    "        if last_two == [\"R\", \"P\"]:\n",
    "            guess = \"S\"\n",
    "        if last_two == [\"P\", \"P\"]:\n",
    "            guess = \"R\"\n",
    "        if last_two == [\"P\", \"S\"]:\n",
    "            guess = \"P\"\n",
    "        if last_two == [\"S\", \"R\"]:\n",
    "            guess = \"P\"\n",
    "            \n",
    "    return guess\n",
    "\n",
    "\n",
    "def join(moves):\n",
    "    return \"\".join(moves)\n",
    "\n",
    "play(player, quincy, 1000)"
   ]
  },
  {
   "cell_type": "markdown",
   "metadata": {},
   "source": [
    "#### Play vs mrugesh"
   ]
  },
  {
   "cell_type": "code",
   "execution_count": 52,
   "metadata": {},
   "outputs": [
    {
     "name": "stdout",
     "output_type": "stream",
     "text": [
      "Final results: {'p1': 634, 'p2': 361, 'tie': 5}\n",
      "Player 1 win rate: 63.71859296482412%\n"
     ]
    },
    {
     "data": {
      "text/plain": [
       "63.71859296482412"
      ]
     },
     "execution_count": 52,
     "metadata": {},
     "output_type": "execute_result"
    }
   ],
   "source": [
    "steps = {}\n",
    "\n",
    "def player(prev_opponent_play, opponent_history=[]):\n",
    "    if prev_opponent_play != \"\":\n",
    "        opponent_history.append(prev_opponent_play)\n",
    "\n",
    "    n = 10\n",
    "    hist = opponent_history\n",
    "    guess = \"R\"\n",
    "    if len(hist) > n:\n",
    "        opponent_history.append(prev_opponent_play)\n",
    "        last_ten = opponent_history[-10:]\n",
    "        most_frequent = max(set(last_ten), key=last_ten.count)\n",
    "    \n",
    "    #mrugesh's ideal_response to most recent 10 = {\"P\": \"S\", \"R\": \"P\", \"S\": \"R\"}\n",
    "    \n",
    "        if most_frequent == \"\":\n",
    "            guess = \"S\"\n",
    "        if most_frequent == \"P\":\n",
    "            guess = \"S\"\n",
    "        if most_frequent == \"R\":\n",
    "            guess = \"P\"\n",
    "        if most_frequent == \"S\":\n",
    "            guess = \"R\"\n",
    "    \n",
    "    return guess\n",
    "\n",
    "\n",
    "def join(moves):\n",
    "    return \"\".join(moves)\n",
    "\n",
    "play(player, mrugesh, 1000)"
   ]
  },
  {
   "cell_type": "markdown",
   "metadata": {},
   "source": [
    "#### Play vs Kris"
   ]
  },
  {
   "cell_type": "code",
   "execution_count": 59,
   "metadata": {},
   "outputs": [
    {
     "name": "stdout",
     "output_type": "stream",
     "text": [
      "Final results: {'p1': 500, 'p2': 0, 'tie': 500}\n",
      "Player 1 win rate: 100.0%\n"
     ]
    },
    {
     "data": {
      "text/plain": [
       "100.0"
      ]
     },
     "execution_count": 59,
     "metadata": {},
     "output_type": "execute_result"
    }
   ],
   "source": [
    "steps = {}\n",
    "\n",
    "def player(prev_play, my_history=[]):\n",
    "    if prev_play != \"\":\n",
    "        my_history.append(prev_play)\n",
    "\n",
    "    n = 1\n",
    "\n",
    "    hist = my_history\n",
    "\n",
    "    # Kris' ideal response: {'P': 'S', 'R': 'P', 'S': 'R'}\n",
    "    \n",
    "    guess = \"S\"\n",
    "    if prev_play == \"S\":\n",
    "        Kris_guess = \"R\"\n",
    "        guess = \"P\"\n",
    "    if prev_play == \"R\":\n",
    "        Kris_guess = \"P\"\n",
    "        guess = \"S\"\n",
    "    if prev_play == \"P\":\n",
    "        Kris_guess = \"S\"\n",
    "        guess = \"R\"\n",
    "            \n",
    "    return guess\n",
    "\n",
    "\n",
    "def join(moves):\n",
    "    return \"\".join(moves)\n",
    "\n",
    "play(player, kris, 1000)"
   ]
  },
  {
   "cell_type": "markdown",
   "metadata": {},
   "source": [
    "#### Play vs Abbey\n",
    "Credit to Mikw https://forum.freecodecamp.org/t/machine-learning-with-python-projects-rock-paper-scissors/412794/4"
   ]
  },
  {
   "cell_type": "code",
   "execution_count": 69,
   "metadata": {},
   "outputs": [
    {
     "name": "stdout",
     "output_type": "stream",
     "text": [
      "Final results: {'p1': 505, 'p2': 254, 'tie': 241}\n",
      "Player 1 win rate: 66.53491436100131%\n"
     ]
    },
    {
     "data": {
      "text/plain": [
       "66.53491436100131"
      ]
     },
     "execution_count": 69,
     "metadata": {},
     "output_type": "execute_result"
    }
   ],
   "source": [
    "wtf = {}\n",
    "\n",
    "def player(prev_play, opponent_history=[]):\n",
    "  global wtf\n",
    "\n",
    "  n = 4\n",
    "\n",
    "  if prev_play in [\"R\",\"P\",\"S\"]:\n",
    "    opponent_history.append(prev_play)\n",
    "\n",
    "  guess = \"R\" # default, until statistic kicks in\n",
    "\n",
    "  if len(opponent_history)>n:\n",
    "    inp = \"\".join(opponent_history[-n:])\n",
    "\n",
    "    if \"\".join(opponent_history[-(n+1):]) in wtf.keys():\n",
    "      wtf[\"\".join(opponent_history[-(n+1):])]+=1\n",
    "    else:\n",
    "      wtf[\"\".join(opponent_history[-(n+1):])]=1\n",
    "\n",
    "    possible =[inp+\"R\", inp+\"P\", inp+\"S\"]\n",
    "\n",
    "    for i in possible:\n",
    "      if not i in wtf.keys():\n",
    "        wtf[i] = 0\n",
    "\n",
    "    predict = max(possible, key=lambda key: wtf[key])\n",
    "\n",
    "    if predict[-1] == \"P\":\n",
    "      guess = \"S\"\n",
    "    if predict[-1] == \"R\":\n",
    "      guess = \"P\"\n",
    "    if predict[-1] == \"S\":\n",
    "      guess = \"R\"\n",
    "\n",
    "\n",
    "  return guess\n",
    "\n",
    "play(player, abbey, 1000)"
   ]
  },
  {
   "cell_type": "markdown",
   "metadata": {},
   "source": [
    "#### all at once"
   ]
  },
  {
   "cell_type": "code",
   "execution_count": 70,
   "metadata": {},
   "outputs": [
    {
     "name": "stdout",
     "output_type": "stream",
     "text": [
      "Final results: {'p1': 992, 'p2': 3, 'tie': 5}\n",
      "Player 1 win rate: 99.69849246231156%\n",
      "Final results: {'p1': 828, 'p2': 166, 'tie': 6}\n",
      "Player 1 win rate: 83.29979879275655%\n",
      "Final results: {'p1': 537, 'p2': 282, 'tie': 181}\n",
      "Player 1 win rate: 65.56776556776556%\n",
      "Final results: {'p1': 988, 'p2': 5, 'tie': 7}\n",
      "Player 1 win rate: 99.49647532729104%\n"
     ]
    },
    {
     "data": {
      "text/plain": [
       "99.49647532729104"
      ]
     },
     "execution_count": 70,
     "metadata": {},
     "output_type": "execute_result"
    }
   ],
   "source": [
    "steps = {}\n",
    "\n",
    "\n",
    "# the strategy is similar to abbey, but we look backs harder than her.\n",
    "# she only look back 2 steps, find most frequently pattern of all 2 moves,\n",
    "#\n",
    "# Other strategies:\n",
    "#\n",
    "# - quincy repeat 5 moves\n",
    "# - kris always counter our last moves, hence, once we establed a patterns, he\n",
    "# is not a problem\n",
    "# - mrugresh look for our top pick in last 10 moves, hence, similar to kris,\n",
    "# once we establed a pattern, we're in control.\n",
    "def player(prev_play, opponent_history=[]):\n",
    "    if prev_play != \"\":\n",
    "        opponent_history.append(prev_play)\n",
    "\n",
    "    # Interestingly, 3 to 6 works best, as in we win more than 60%.\n",
    "    # If n is larger than 6, we start to get terrible result.\n",
    "    # I guess it's becauase we don't have enough data to predict once n get that\n",
    "    # larger, we only play 1000 games.\n",
    "    n = 5\n",
    "\n",
    "    hist = opponent_history\n",
    "\n",
    "    guess = \"R\"\n",
    "    if len(hist) > n:\n",
    "        pattern = join(hist[-n:])\n",
    "\n",
    "        if join(hist[-(n + 1):]) in steps.keys():\n",
    "            steps[join(hist[-(n + 1):])] += 1\n",
    "        else:\n",
    "            steps[join(hist[-(n + 1):])] = 1\n",
    "\n",
    "        possible = [pattern + \"R\", pattern + \"P\", pattern + \"S\"]\n",
    "\n",
    "        for i in possible:\n",
    "            if not i in steps.keys():\n",
    "                steps[i] = 0\n",
    "\n",
    "        predict = max(possible, key=lambda key: steps[key])\n",
    "\n",
    "        if predict[-1] == \"P\":\n",
    "            guess = \"S\"\n",
    "        if predict[-1] == \"R\":\n",
    "            guess = \"P\"\n",
    "        if predict[-1] == \"S\":\n",
    "            guess = \"R\"\n",
    "\n",
    "    return guess\n",
    "\n",
    "\n",
    "def join(moves):\n",
    "    return \"\".join(moves)\n",
    "\n",
    "\n",
    "play(player, quincy, 1000)\n",
    "play(player, mrugesh, 1000)\n",
    "play(player, abbey, 1000)\n",
    "play(player, kris, 1000)"
   ]
  },
  {
   "cell_type": "markdown",
   "metadata": {},
   "source": [
    "### Test"
   ]
  },
  {
   "cell_type": "code",
   "execution_count": 71,
   "metadata": {},
   "outputs": [
    {
     "name": "stderr",
     "output_type": "stream",
     "text": [
      "...."
     ]
    },
    {
     "name": "stdout",
     "output_type": "stream",
     "text": [
      "\n",
      "Testing game against abbey...\n",
      "Final results: {'p1': 490, 'p2': 250, 'tie': 260}\n",
      "Player 1 win rate: 66.21621621621621%\n",
      "Testing game against kris...\n",
      "Final results: {'p1': 998, 'p2': 2, 'tie': 0}\n",
      "Player 1 win rate: 99.8%\n",
      "Testing game against mrugesh...\n",
      "Final results: {'p1': 831, 'p2': 158, 'tie': 11}\n",
      "Player 1 win rate: 84.0242669362993%\n",
      "Testing game against quincy...\n",
      "Final results: {'p1': 995, 'p2': 2, 'tie': 3}\n",
      "Player 1 win rate: 99.79939819458376%\n"
     ]
    },
    {
     "name": "stderr",
     "output_type": "stream",
     "text": [
      "\n",
      "----------------------------------------------------------------------\n",
      "Ran 4 tests in 0.056s\n",
      "\n",
      "OK\n"
     ]
    }
   ],
   "source": [
    "import unittest\n",
    "\n",
    "class UnitTests(unittest.TestCase):\n",
    "    print()\n",
    "\n",
    "    def test_player_vs_quincy(self):\n",
    "        print(\"Testing game against quincy...\")\n",
    "        actual = play(player, quincy, 1000) >= 60\n",
    "        self.assertTrue(\n",
    "            actual,\n",
    "            'Expected player to defeat quincy at least 60% of the time.')\n",
    "\n",
    "    def test_player_vs_abbey(self):\n",
    "        print(\"Testing game against abbey...\")\n",
    "        actual = play(player, abbey, 1000) >= 60\n",
    "        self.assertTrue(\n",
    "            actual,\n",
    "            'Expected player to defeat abbey at least 60% of the time.')\n",
    "\n",
    "    def test_player_vs_kris(self):\n",
    "        print(\"Testing game against kris...\")\n",
    "        actual = play(player, kris, 1000) >= 60\n",
    "        self.assertTrue(\n",
    "            actual, 'Expected player to defeat kris at least 60% of the time.')\n",
    "\n",
    "    def test_player_vs_mrugesh(self):\n",
    "        print(\"Testing game against mrugesh...\")\n",
    "        actual = play(player, mrugesh, 1000) >= 60\n",
    "        self.assertTrue(\n",
    "            actual,\n",
    "            'Expected player to defeat mrugesh at least 60% of the time.')\n",
    "\n",
    "\n",
    "if __name__ == \"__main__\":\n",
    "    unittest.main(argv=[\"first-arg-is-ignored\"], exit=False)"
   ]
  },
  {
   "cell_type": "code",
   "execution_count": null,
   "metadata": {},
   "outputs": [],
   "source": []
  }
 ],
 "metadata": {
  "kernelspec": {
   "display_name": "Python 3",
   "language": "python",
   "name": "python3"
  },
  "language_info": {
   "codemirror_mode": {
    "name": "ipython",
    "version": 3
   },
   "file_extension": ".py",
   "mimetype": "text/x-python",
   "name": "python",
   "nbconvert_exporter": "python",
   "pygments_lexer": "ipython3",
   "version": "3.8.5"
  }
 },
 "nbformat": 4,
 "nbformat_minor": 4
}
